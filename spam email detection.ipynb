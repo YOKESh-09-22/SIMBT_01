{
 "cells": [
  {
   "cell_type": "code",
   "execution_count": 47,
   "id": "46758a38-25d0-40f7-8b66-42b40822ac0b",
   "metadata": {
    "tags": []
   },
   "outputs": [],
   "source": [
    "import numpy as np"
   ]
  },
  {
   "cell_type": "code",
   "execution_count": 48,
   "id": "830c0785-b41a-4805-b77b-e032de2c4b73",
   "metadata": {
    "tags": []
   },
   "outputs": [],
   "source": [
    "import pandas as pd"
   ]
  },
  {
   "cell_type": "code",
   "execution_count": 49,
   "id": "2b76a85d-24d4-42a2-87eb-e99277ac9706",
   "metadata": {
    "tags": []
   },
   "outputs": [],
   "source": [
    "import matplotlib.pyplot as plt"
   ]
  },
  {
   "cell_type": "code",
   "execution_count": 50,
   "id": "8fd362e3-9c39-4fa7-9b16-9a7578de31e6",
   "metadata": {
    "tags": []
   },
   "outputs": [],
   "source": [
    "data=pd.read_csv('spam.csv')"
   ]
  },
  {
   "cell_type": "code",
   "execution_count": 51,
   "id": "ec44d556-4e07-4f2d-95c3-c19ff4da6669",
   "metadata": {
    "tags": []
   },
   "outputs": [
    {
     "data": {
      "text/html": [
       "<div>\n",
       "<style scoped>\n",
       "    .dataframe tbody tr th:only-of-type {\n",
       "        vertical-align: middle;\n",
       "    }\n",
       "\n",
       "    .dataframe tbody tr th {\n",
       "        vertical-align: top;\n",
       "    }\n",
       "\n",
       "    .dataframe thead th {\n",
       "        text-align: right;\n",
       "    }\n",
       "</style>\n",
       "<table border=\"1\" class=\"dataframe\">\n",
       "  <thead>\n",
       "    <tr style=\"text-align: right;\">\n",
       "      <th></th>\n",
       "      <th>Unnamed: 0</th>\n",
       "      <th>label</th>\n",
       "      <th>text</th>\n",
       "      <th>label_num</th>\n",
       "    </tr>\n",
       "  </thead>\n",
       "  <tbody>\n",
       "    <tr>\n",
       "      <th>0</th>\n",
       "      <td>605</td>\n",
       "      <td>ham</td>\n",
       "      <td>Subject: enron methanol ; meter # : 988291\\r\\n...</td>\n",
       "      <td>0</td>\n",
       "    </tr>\n",
       "    <tr>\n",
       "      <th>1</th>\n",
       "      <td>2349</td>\n",
       "      <td>ham</td>\n",
       "      <td>Subject: hpl nom for january 9 , 2001\\r\\n( see...</td>\n",
       "      <td>0</td>\n",
       "    </tr>\n",
       "    <tr>\n",
       "      <th>2</th>\n",
       "      <td>3624</td>\n",
       "      <td>ham</td>\n",
       "      <td>Subject: neon retreat\\r\\nho ho ho , we ' re ar...</td>\n",
       "      <td>0</td>\n",
       "    </tr>\n",
       "    <tr>\n",
       "      <th>3</th>\n",
       "      <td>4685</td>\n",
       "      <td>spam</td>\n",
       "      <td>Subject: photoshop , windows , office . cheap ...</td>\n",
       "      <td>1</td>\n",
       "    </tr>\n",
       "    <tr>\n",
       "      <th>4</th>\n",
       "      <td>2030</td>\n",
       "      <td>ham</td>\n",
       "      <td>Subject: re : indian springs\\r\\nthis deal is t...</td>\n",
       "      <td>0</td>\n",
       "    </tr>\n",
       "  </tbody>\n",
       "</table>\n",
       "</div>"
      ],
      "text/plain": [
       "   Unnamed: 0 label                                               text  \\\n",
       "0         605   ham  Subject: enron methanol ; meter # : 988291\\r\\n...   \n",
       "1        2349   ham  Subject: hpl nom for january 9 , 2001\\r\\n( see...   \n",
       "2        3624   ham  Subject: neon retreat\\r\\nho ho ho , we ' re ar...   \n",
       "3        4685  spam  Subject: photoshop , windows , office . cheap ...   \n",
       "4        2030   ham  Subject: re : indian springs\\r\\nthis deal is t...   \n",
       "\n",
       "   label_num  \n",
       "0          0  \n",
       "1          0  \n",
       "2          0  \n",
       "3          1  \n",
       "4          0  "
      ]
     },
     "execution_count": 51,
     "metadata": {},
     "output_type": "execute_result"
    }
   ],
   "source": [
    "data.head()"
   ]
  },
  {
   "cell_type": "code",
   "execution_count": 52,
   "id": "93e4ec4b-d3c8-4789-87fb-89e03372a57c",
   "metadata": {
    "tags": []
   },
   "outputs": [
    {
     "name": "stdout",
     "output_type": "stream",
     "text": [
      "5171\n"
     ]
    }
   ],
   "source": [
    "print(len(data))"
   ]
  },
  {
   "cell_type": "code",
   "execution_count": 53,
   "id": "61ef68bb-2700-4f50-88da-c92c776169d9",
   "metadata": {
    "tags": []
   },
   "outputs": [],
   "source": [
    "s=data['label'].value_counts()"
   ]
  },
  {
   "cell_type": "code",
   "execution_count": 54,
   "id": "dac69d1a-f70b-43ba-9f18-a40099c07534",
   "metadata": {
    "tags": []
   },
   "outputs": [
    {
     "data": {
      "text/plain": [
       "0    3672\n",
       "1    1499\n",
       "Name: label_num, dtype: int64"
      ]
     },
     "execution_count": 54,
     "metadata": {},
     "output_type": "execute_result"
    }
   ],
   "source": [
    "data['label_num'].value_counts()"
   ]
  },
  {
   "cell_type": "code",
   "execution_count": 55,
   "id": "00ea46a7-52bd-48cc-8531-f8c33310d2df",
   "metadata": {
    "tags": []
   },
   "outputs": [
    {
     "name": "stdout",
     "output_type": "stream",
     "text": [
      "<class 'pandas.core.frame.DataFrame'>\n",
      "RangeIndex: 5171 entries, 0 to 5170\n",
      "Data columns (total 4 columns):\n",
      " #   Column      Non-Null Count  Dtype \n",
      "---  ------      --------------  ----- \n",
      " 0   Unnamed: 0  5171 non-null   int64 \n",
      " 1   label       5171 non-null   object\n",
      " 2   text        5171 non-null   object\n",
      " 3   label_num   5171 non-null   int64 \n",
      "dtypes: int64(2), object(2)\n",
      "memory usage: 161.7+ KB\n"
     ]
    }
   ],
   "source": [
    "data.info()"
   ]
  },
  {
   "cell_type": "code",
   "execution_count": 56,
   "id": "f719bc5f-37d3-49d2-a938-430edf446349",
   "metadata": {
    "tags": []
   },
   "outputs": [
    {
     "data": {
      "text/plain": [
       "<bound method NDFrame.describe of       Unnamed: 0 label                                               text  \\\n",
       "0            605   ham  Subject: enron methanol ; meter # : 988291\\r\\n...   \n",
       "1           2349   ham  Subject: hpl nom for january 9 , 2001\\r\\n( see...   \n",
       "2           3624   ham  Subject: neon retreat\\r\\nho ho ho , we ' re ar...   \n",
       "3           4685  spam  Subject: photoshop , windows , office . cheap ...   \n",
       "4           2030   ham  Subject: re : indian springs\\r\\nthis deal is t...   \n",
       "...          ...   ...                                                ...   \n",
       "5166        1518   ham  Subject: put the 10 on the ft\\r\\nthe transport...   \n",
       "5167         404   ham  Subject: 3 / 4 / 2000 and following noms\\r\\nhp...   \n",
       "5168        2933   ham  Subject: calpine daily gas nomination\\r\\n>\\r\\n...   \n",
       "5169        1409   ham  Subject: industrial worksheets for august 2000...   \n",
       "5170        4807  spam  Subject: important online banking alert\\r\\ndea...   \n",
       "\n",
       "      label_num  \n",
       "0             0  \n",
       "1             0  \n",
       "2             0  \n",
       "3             1  \n",
       "4             0  \n",
       "...         ...  \n",
       "5166          0  \n",
       "5167          0  \n",
       "5168          0  \n",
       "5169          0  \n",
       "5170          1  \n",
       "\n",
       "[5171 rows x 4 columns]>"
      ]
     },
     "execution_count": 56,
     "metadata": {},
     "output_type": "execute_result"
    }
   ],
   "source": [
    "data.describe"
   ]
  },
  {
   "cell_type": "code",
   "execution_count": 58,
   "id": "f9df6514-0390-42d3-8ed5-4a11f0cdf57a",
   "metadata": {
    "tags": []
   },
   "outputs": [
    {
     "data": {
      "text/plain": [
       "<Axes: xlabel='label', ylabel='count'>"
      ]
     },
     "execution_count": 58,
     "metadata": {},
     "output_type": "execute_result"
    },
    {
     "data": {
      "image/png": "[encoded data removed]",
      "text/plain": [
       "<Figure size 640x480 with 1 Axes>"
      ]
     },
     "metadata": {},
     "output_type": "display_data"
    }
   ],
   "source": [
    "x=plt.xlabel(\"label\")\n",
    "y=plt.ylabel(\"count\")\n",
    "s.plot.bar()"
   ]
  },
  {
   "cell_type": "code",
   "execution_count": 62,
   "id": "1c30e307-930e-4284-9896-09d51bd75b9a",
   "metadata": {
    "tags": []
   },
   "outputs": [],
   "source": [
    "data=data.drop('Unnamed: 0',axis=1)\n",
    "data=data.drop('label',axis=1)"
   ]
  },
  {
   "cell_type": "code",
   "execution_count": 64,
   "id": "f663464d-32b3-43c3-b8a5-082e03b92b69",
   "metadata": {
    "tags": []
   },
   "outputs": [
    {
     "data": {
      "text/html": [
       "<div>\n",
       "<style scoped>\n",
       "    .dataframe tbody tr th:only-of-type {\n",
       "        vertical-align: middle;\n",
       "    }\n",
       "\n",
       "    .dataframe tbody tr th {\n",
       "        vertical-align: top;\n",
       "    }\n",
       "\n",
       "    .dataframe thead th {\n",
       "        text-align: right;\n",
       "    }\n",
       "</style>\n",
       "<table border=\"1\" class=\"dataframe\">\n",
       "  <thead>\n",
       "    <tr style=\"text-align: right;\">\n",
       "      <th></th>\n",
       "      <th>text</th>\n",
       "      <th>label_num</th>\n",
       "    </tr>\n",
       "  </thead>\n",
       "  <tbody>\n",
       "    <tr>\n",
       "      <th>0</th>\n",
       "      <td>Subject: enron methanol ; meter # : 988291\\r\\n...</td>\n",
       "      <td>0</td>\n",
       "    </tr>\n",
       "    <tr>\n",
       "      <th>1</th>\n",
       "      <td>Subject: hpl nom for january 9 , 2001\\r\\n( see...</td>\n",
       "      <td>0</td>\n",
       "    </tr>\n",
       "    <tr>\n",
       "      <th>2</th>\n",
       "      <td>Subject: neon retreat\\r\\nho ho ho , we ' re ar...</td>\n",
       "      <td>0</td>\n",
       "    </tr>\n",
       "    <tr>\n",
       "      <th>3</th>\n",
       "      <td>Subject: photoshop , windows , office . cheap ...</td>\n",
       "      <td>1</td>\n",
       "    </tr>\n",
       "    <tr>\n",
       "      <th>4</th>\n",
       "      <td>Subject: re : indian springs\\r\\nthis deal is t...</td>\n",
       "      <td>0</td>\n",
       "    </tr>\n",
       "  </tbody>\n",
       "</table>\n",
       "</div>"
      ],
      "text/plain": [
       "                                                text  label_num\n",
       "0  Subject: enron methanol ; meter # : 988291\\r\\n...          0\n",
       "1  Subject: hpl nom for january 9 , 2001\\r\\n( see...          0\n",
       "2  Subject: neon retreat\\r\\nho ho ho , we ' re ar...          0\n",
       "3  Subject: photoshop , windows , office . cheap ...          1\n",
       "4  Subject: re : indian springs\\r\\nthis deal is t...          0"
      ]
     },
     "execution_count": 64,
     "metadata": {},
     "output_type": "execute_result"
    }
   ],
   "source": [
    "data.head()"
   ]
  },
  {
   "cell_type": "code",
   "execution_count": 82,
   "id": "4a49e23b-7577-404a-9607-da883240696e",
   "metadata": {
    "tags": []
   },
   "outputs": [],
   "source": [
    "x=data['text']"
   ]
  },
  {
   "cell_type": "code",
   "execution_count": 83,
   "id": "b067501f-0424-4dcb-89f9-366375083aa2",
   "metadata": {
    "tags": []
   },
   "outputs": [],
   "source": [
    "y=data['label_num']"
   ]
  },
  {
   "cell_type": "code",
   "execution_count": 85,
   "id": "bcc09b43-cb54-48c2-9f82-7b38bd275192",
   "metadata": {
    "tags": []
   },
   "outputs": [
    {
     "name": "stdout",
     "output_type": "stream",
     "text": [
      "0    Subject: enron methanol ; meter # : 988291\\r\\n...\n",
      "1    Subject: hpl nom for january 9 , 2001\\r\\n( see...\n",
      "2    Subject: neon retreat\\r\\nho ho ho , we ' re ar...\n",
      "3    Subject: photoshop , windows , office . cheap ...\n",
      "4    Subject: re : indian springs\\r\\nthis deal is t...\n",
      "Name: text, dtype: object\n"
     ]
    }
   ],
   "source": [
    "print(x.head())"
   ]
  },
  {
   "cell_type": "code",
   "execution_count": null,
   "id": "59e3b917-475e-4e6d-b2d3-94155e400512",
   "metadata": {},
   "outputs": [],
   "source": []
  },
  {
   "cell_type": "code",
   "execution_count": 69,
   "id": "3ba8259d-5095-4768-80a7-bc3f8b163c0c",
   "metadata": {
    "tags": []
   },
   "outputs": [],
   "source": [
    "from sklearn.feature_extraction.text import TfidfVectorizer"
   ]
  },
  {
   "cell_type": "code",
   "execution_count": 80,
   "id": "473c6bd8-71d3-475d-9be5-9f0ff8fbe2fa",
   "metadata": {
    "tags": []
   },
   "outputs": [],
   "source": [
    "feature_extraction= TfidfVectorizer(min_df = 1 , stop_words='english', lowercase = \"True\")\n"
   ]
  },
  {
   "cell_type": "code",
   "execution_count": 86,
   "id": "ffc005a0-0852-4ac8-b6af-99a0c4d79b8b",
   "metadata": {
    "tags": []
   },
   "outputs": [],
   "source": [
    "x=feature_extraction.fit_transform(x)"
   ]
  },
  {
   "cell_type": "code",
   "execution_count": 87,
   "id": "f88a2dcf-b109-477c-8084-27dc83f1220f",
   "metadata": {
    "tags": []
   },
   "outputs": [
    {
     "name": "stdout",
     "output_type": "stream",
     "text": [
      "  (0, 37277)\t0.2011097309413472\n",
      "  (0, 17826)\t0.2392098021343849\n",
      "  (0, 7216)\t0.1904342633768622\n",
      "  (0, 32458)\t0.15611810136067314\n",
      "  (0, 11853)\t0.12297449106504706\n",
      "  (0, 13882)\t0.16097016125305302\n",
      "  (0, 21604)\t0.09031870628106299\n",
      "  (0, 33380)\t0.22464796050060742\n",
      "  (0, 5141)\t0.16330305397181255\n",
      "  (0, 38455)\t0.18654788930756974\n",
      "  (0, 49869)\t0.17077874338809632\n",
      "  (0, 36555)\t0.2011097309413472\n",
      "  (0, 47605)\t0.11813966930318913\n",
      "  (0, 15070)\t0.26506114668840103\n",
      "  (0, 36121)\t0.2304064936785402\n",
      "  (0, 34299)\t0.27312912121289434\n",
      "  (0, 15168)\t0.09383338654057037\n",
      "  (0, 37033)\t0.17198604767379225\n",
      "  (0, 15225)\t0.16554063068104793\n",
      "  (0, 20643)\t0.12642883285390433\n",
      "  (0, 36490)\t0.20964545173769655\n",
      "  (0, 0)\t0.10426983213156465\n",
      "  (0, 31571)\t0.14947169013950107\n",
      "  (0, 21659)\t0.20324385893640598\n",
      "  (0, 33042)\t0.14755582683265941\n",
      "  :\t:\n",
      "  (5170, 40944)\t0.043825552681914126\n",
      "  (5170, 19502)\t0.06940047912119972\n",
      "  (5170, 48113)\t0.06743231879609364\n",
      "  (5170, 5896)\t0.07807203338816637\n",
      "  (5170, 39943)\t0.0654536507459819\n",
      "  (5170, 25582)\t0.04084595884272012\n",
      "  (5170, 25931)\t0.060842568812869834\n",
      "  (5170, 41025)\t0.11074677663035766\n",
      "  (5170, 7528)\t0.06905149192063627\n",
      "  (5170, 268)\t0.034142006565318614\n",
      "  (5170, 21370)\t0.05574695522298963\n",
      "  (5170, 6815)\t0.07327442668249698\n",
      "  (5170, 12642)\t0.05049708257577212\n",
      "  (5170, 29821)\t0.045788574177944755\n",
      "  (5170, 33780)\t0.32156994184710264\n",
      "  (5170, 32467)\t0.0520749217466965\n",
      "  (5170, 30849)\t0.13139963528249582\n",
      "  (5170, 13830)\t0.060033187232779735\n",
      "  (5170, 31235)\t0.07559776400175358\n",
      "  (5170, 25157)\t0.06481291025635455\n",
      "  (5170, 20756)\t0.0445653878572119\n",
      "  (5170, 16946)\t0.05332923495537823\n",
      "  (5170, 44941)\t0.04048151839656568\n",
      "  (5170, 33042)\t0.05448307092167786\n",
      "  (5170, 43337)\t0.013260748263266092\n"
     ]
    }
   ],
   "source": [
    "print(x)"
   ]
  },
  {
   "cell_type": "code",
   "execution_count": 88,
   "id": "daab01e4-e010-4238-bf73-e52cda9b9981",
   "metadata": {
    "tags": []
   },
   "outputs": [],
   "source": [
    "from sklearn.model_selection import train_test_split"
   ]
  },
  {
   "cell_type": "code",
   "execution_count": 89,
   "id": "308ce307-3ebe-4f6a-8324-3f037e0959db",
   "metadata": {
    "tags": []
   },
   "outputs": [],
   "source": [
    "x_train,x_test,y_train,y_test=train_test_split(x,y,test_size=0.2)"
   ]
  },
  {
   "cell_type": "code",
   "execution_count": 91,
   "id": "0268b3a8-7c57-4cd5-a1bf-23eab322ef84",
   "metadata": {
    "tags": []
   },
   "outputs": [
    {
     "name": "stdout",
     "output_type": "stream",
     "text": [
      "  (0, 42103)\t0.14380214994766397\n",
      "  (0, 41181)\t0.14380214994766397\n",
      "  (0, 34615)\t0.14380214994766397\n",
      "  (0, 31965)\t0.15070039628782436\n",
      "  (0, 48718)\t0.15070039628782436\n",
      "  (0, 45874)\t0.15070039628782436\n",
      "  (0, 2872)\t0.15070039628782436\n",
      "  (0, 1361)\t0.12331875735725041\n",
      "  (0, 3715)\t0.15070039628782436\n",
      "  (0, 27641)\t0.1293869283970034\n",
      "  (0, 13691)\t0.15070039628782436\n",
      "  (0, 25581)\t0.15070039628782436\n",
      "  (0, 18822)\t0.15070039628782436\n",
      "  (0, 44106)\t0.14380214994766397\n",
      "  (0, 22320)\t0.15070039628782436\n",
      "  (0, 32404)\t0.13511138736627842\n",
      "  (0, 12239)\t0.14380214994766397\n",
      "  (0, 17221)\t0.13890776627879634\n",
      "  (0, 8750)\t0.13511138736627842\n",
      "  (0, 33122)\t0.13890776627879634\n",
      "  (0, 42316)\t0.13890776627879634\n",
      "  (0, 3509)\t0.13890776627879634\n",
      "  (0, 13510)\t0.13890776627879634\n",
      "  (0, 17536)\t0.13200951993863597\n",
      "  (0, 15759)\t0.13890776627879634\n",
      "  :\t:\n",
      "  (4135, 43623)\t0.046455556362546876\n",
      "  (4135, 18659)\t0.05891424324849027\n",
      "  (4135, 46691)\t0.06143311178984603\n",
      "  (4135, 1124)\t0.05499698670773922\n",
      "  (4135, 2392)\t0.04876028065672649\n",
      "  (4135, 38525)\t0.060946929450399444\n",
      "  (4135, 33184)\t0.08479234025357928\n",
      "  (4135, 46703)\t0.050817292086376836\n",
      "  (4135, 25582)\t0.03568628215580863\n",
      "  (4135, 41025)\t0.04837860134334485\n",
      "  (4135, 7528)\t0.06032888182274984\n",
      "  (4135, 40773)\t0.06143311178984603\n",
      "  (4135, 29869)\t0.04037489345974444\n",
      "  (4135, 11164)\t0.1293125539276832\n",
      "  (4135, 16063)\t0.051428993153682025\n",
      "  (4135, 12642)\t0.0441182723554878\n",
      "  (4135, 14867)\t0.05207480001491583\n",
      "  (4135, 46683)\t0.04281988371384117\n",
      "  (4135, 24452)\t0.036331632097748354\n",
      "  (4135, 11983)\t0.04654678238993937\n",
      "  (4135, 48017)\t0.04816601472532123\n",
      "  (4135, 36748)\t0.09819550100861235\n",
      "  (4135, 44941)\t0.03536787796212732\n",
      "  (4135, 33042)\t0.09520149834712259\n",
      "  (4135, 43337)\t0.023171291238002368\n"
     ]
    }
   ],
   "source": [
    "print(x_train)"
   ]
  },
  {
   "cell_type": "code",
   "execution_count": 99,
   "id": "fc6d5e0e-f1e5-4221-b1ce-9fe40dfff7fe",
   "metadata": {
    "tags": []
   },
   "outputs": [
    {
     "name": "stdout",
     "output_type": "stream",
     "text": [
      "  (0, 19923)\t0.09475824995592175\n",
      "  (0, 20446)\t0.2007458914554433\n",
      "  (0, 29266)\t0.1590903367294533\n",
      "  (0, 34715)\t0.2246575631713854\n",
      "  (0, 12543)\t0.0900989359816569\n",
      "  (0, 30431)\t0.0762717644486883\n",
      "  (0, 24479)\t0.0765168601146664\n",
      "  (0, 45222)\t0.07247148825629958\n",
      "  (0, 34856)\t0.0775430734918164\n",
      "  (0, 46022)\t0.13359076841631123\n",
      "  (0, 34858)\t0.08263515842555842\n",
      "  (0, 26091)\t0.06890958341304583\n",
      "  (0, 34857)\t0.06848779820870428\n",
      "  (0, 42842)\t0.07157778826953606\n",
      "  (0, 29263)\t0.07533258808731777\n",
      "  (0, 15393)\t0.04888170976645469\n",
      "  (0, 34779)\t0.07057632475352722\n",
      "  (0, 23464)\t0.2683642441075446\n",
      "  (0, 22734)\t0.05607918019934281\n",
      "  (0, 30125)\t0.05788794887330025\n",
      "  (0, 40956)\t0.09223354424495363\n",
      "  (0, 34718)\t0.07382827623518655\n",
      "  (0, 47816)\t0.0742416664446531\n",
      "  (0, 33452)\t0.05868324167832812\n",
      "  (0, 40974)\t0.3081873521007504\n",
      "  :\t:\n",
      "  (1033, 2539)\t0.12962188365420685\n",
      "  (1033, 12172)\t0.2420459747205963\n",
      "  (1033, 6265)\t0.2328720262376761\n",
      "  (1033, 2156)\t0.1126084161472522\n",
      "  (1033, 198)\t0.19374790249426826\n",
      "  (1033, 168)\t0.20885915939156152\n",
      "  (1033, 14086)\t0.08045495712583124\n",
      "  (1033, 2795)\t0.13335350241238764\n",
      "  (1033, 27151)\t0.4482200770864063\n",
      "  (1033, 1112)\t0.12320442982836503\n",
      "  (1033, 11517)\t0.06675141128367587\n",
      "  (1033, 1526)\t0.2121225559504335\n",
      "  (1033, 20943)\t0.07650311950543334\n",
      "  (1033, 13093)\t0.14516807071045587\n",
      "  (1033, 49235)\t0.18591982788450814\n",
      "  (1033, 20288)\t0.09077846287105402\n",
      "  (1033, 7500)\t0.07721851691029148\n",
      "  (1033, 24360)\t0.14245892398690754\n",
      "  (1033, 18639)\t0.12646908080606306\n",
      "  (1033, 43337)\t0.05589125800063714\n",
      "  (1034, 12460)\t0.6324096984255231\n",
      "  (1034, 41596)\t0.6603893669690137\n",
      "  (1034, 45132)\t0.2886410839898137\n",
      "  (1034, 36624)\t0.2715055614815425\n",
      "  (1034, 43337)\t0.08315595017424587\n"
     ]
    }
   ],
   "source": [
    "print(x_test)"
   ]
  },
  {
   "cell_type": "code",
   "execution_count": 100,
   "id": "171dd43b-5eee-4a4d-a539-e323e4a8c512",
   "metadata": {
    "tags": []
   },
   "outputs": [
    {
     "name": "stdout",
     "output_type": "stream",
     "text": [
      "2713    0\n",
      "63      0\n",
      "2678    0\n",
      "607     0\n",
      "3990    0\n",
      "       ..\n",
      "1358    0\n",
      "3668    0\n",
      "4112    1\n",
      "4747    0\n",
      "546     1\n",
      "Name: label_num, Length: 1035, dtype: int64\n"
     ]
    }
   ],
   "source": [
    "print(y_test)"
   ]
  },
  {
   "cell_type": "code",
   "execution_count": 104,
   "id": "502d9e31-96ba-403d-bfba-57725f050bbc",
   "metadata": {
    "tags": []
   },
   "outputs": [],
   "source": [
    "from sklearn.linear_model import LogisticRegression"
   ]
  },
  {
   "cell_type": "code",
   "execution_count": 105,
   "id": "31ab5505-fe15-4978-806c-e1bdf2e1ed9e",
   "metadata": {
    "tags": []
   },
   "outputs": [],
   "source": [
    "model=LogisticRegression()"
   ]
  },
  {
   "cell_type": "code",
   "execution_count": 107,
   "id": "f0634819-366e-4e28-aa7a-68cddd9b1649",
   "metadata": {
    "tags": []
   },
   "outputs": [
    {
     "data": {
      "text/html": [
       "<style>#sk-container-id-2 {color: black;background-color: white;}#sk-container-id-2 pre{padding: 0;}#sk-container-id-2 div.sk-toggleable {background-color: white;}#sk-container-id-2 label.sk-toggleable__label {cursor: pointer;display: block;width: 100%;margin-bottom: 0;padding: 0.3em;box-sizing: border-box;text-align: center;}#sk-container-id-2 label.sk-toggleable__label-arrow:before {content: \"▸\";float: left;margin-right: 0.25em;color: #696969;}#sk-container-id-2 label.sk-toggleable__label-arrow:hover:before {color: black;}#sk-container-id-2 div.sk-estimator:hover label.sk-toggleable__label-arrow:before {color: black;}#sk-container-id-2 div.sk-toggleable__content {max-height: 0;max-width: 0;overflow: hidden;text-align: left;background-color: #f0f8ff;}#sk-container-id-2 div.sk-toggleable__content pre {margin: 0.2em;color: black;border-radius: 0.25em;background-color: #f0f8ff;}#sk-container-id-2 input.sk-toggleable__control:checked~div.sk-toggleable__content {max-height: 200px;max-width: 100%;overflow: auto;}#sk-container-id-2 input.sk-toggleable__control:checked~label.sk-toggleable__label-arrow:before {content: \"▾\";}#sk-container-id-2 div.sk-estimator input.sk-toggleable__control:checked~label.sk-toggleable__label {background-color: #d4ebff;}#sk-container-id-2 div.sk-label input.sk-toggleable__control:checked~label.sk-toggleable__label {background-color: #d4ebff;}#sk-container-id-2 input.sk-hidden--visually {border: 0;clip: rect(1px 1px 1px 1px);clip: rect(1px, 1px, 1px, 1px);height: 1px;margin: -1px;overflow: hidden;padding: 0;position: absolute;width: 1px;}#sk-container-id-2 div.sk-estimator {font-family: monospace;background-color: #f0f8ff;border: 1px dotted black;border-radius: 0.25em;box-sizing: border-box;margin-bottom: 0.5em;}#sk-container-id-2 div.sk-estimator:hover {background-color: #d4ebff;}#sk-container-id-2 div.sk-parallel-item::after {content: \"\";width: 100%;border-bottom: 1px solid gray;flex-grow: 1;}#sk-container-id-2 div.sk-label:hover label.sk-toggleable__label {background-color: #d4ebff;}#sk-container-id-2 div.sk-serial::before {content: \"\";position: absolute;border-left: 1px solid gray;box-sizing: border-box;top: 0;bottom: 0;left: 50%;z-index: 0;}#sk-container-id-2 div.sk-serial {display: flex;flex-direction: column;align-items: center;background-color: white;padding-right: 0.2em;padding-left: 0.2em;position: relative;}#sk-container-id-2 div.sk-item {position: relative;z-index: 1;}#sk-container-id-2 div.sk-parallel {display: flex;align-items: stretch;justify-content: center;background-color: white;position: relative;}#sk-container-id-2 div.sk-item::before, #sk-container-id-2 div.sk-parallel-item::before {content: \"\";position: absolute;border-left: 1px solid gray;box-sizing: border-box;top: 0;bottom: 0;left: 50%;z-index: -1;}#sk-container-id-2 div.sk-parallel-item {display: flex;flex-direction: column;z-index: 1;position: relative;background-color: white;}#sk-container-id-2 div.sk-parallel-item:first-child::after {align-self: flex-end;width: 50%;}#sk-container-id-2 div.sk-parallel-item:last-child::after {align-self: flex-start;width: 50%;}#sk-container-id-2 div.sk-parallel-item:only-child::after {width: 0;}#sk-container-id-2 div.sk-dashed-wrapped {border: 1px dashed gray;margin: 0 0.4em 0.5em 0.4em;box-sizing: border-box;padding-bottom: 0.4em;background-color: white;}#sk-container-id-2 div.sk-label label {font-family: monospace;font-weight: bold;display: inline-block;line-height: 1.2em;}#sk-container-id-2 div.sk-label-container {text-align: center;}#sk-container-id-2 div.sk-container {/* jupyter's `normalize.less` sets `[hidden] { display: none; }` but bootstrap.min.css set `[hidden] { display: none !important; }` so we also need the `!important` here to be able to override the default hidden behavior on the sphinx rendered scikit-learn.org. See: https://github.com/scikit-learn/scikit-learn/issues/21755 */display: inline-block !important;position: relative;}#sk-container-id-2 div.sk-text-repr-fallback {display: none;}</style><div id=\"sk-container-id-2\" class=\"sk-top-container\"><div class=\"sk-text-repr-fallback\"><pre>LogisticRegression(penalty=&#x27;12&#x27;)</pre><b>In a Jupyter environment, please rerun this cell to show the HTML representation or trust the notebook. <br />On GitHub, the HTML representation is unable to render, please try loading this page with nbviewer.org.</b></div><div class=\"sk-container\" hidden><div class=\"sk-item\"><div class=\"sk-estimator sk-toggleable\"><input class=\"sk-toggleable__control sk-hidden--visually\" id=\"sk-estimator-id-2\" type=\"checkbox\" checked><label for=\"sk-estimator-id-2\" class=\"sk-toggleable__label sk-toggleable__label-arrow\">LogisticRegression</label><div class=\"sk-toggleable__content\"><pre>LogisticRegression(penalty=&#x27;12&#x27;)</pre></div></div></div></div></div>"
      ],
      "text/plain": [
       "LogisticRegression(penalty='12')"
      ]
     },
     "execution_count": 107,
     "metadata": {},
     "output_type": "execute_result"
    }
   ],
   "source": [
    "model.fit(x_train,y_train)\n",
    "\n",
    "LogisticRegression(C=1.0 ,class_weight=None ,dual=False,fit_intercept=True,intercept_scaling=1, l1_ratio=None ,max_iter=100,multi_class='auto',n_jobs=None ,penalty='12',random_state=None, solver='lbfgs' , tol=0.0001, verbose=0, warm_start=False)"
   ]
  },
  {
   "cell_type": "code",
   "execution_count": 123,
   "id": "9449978b-f66c-4392-89cd-bcde14bf779a",
   "metadata": {
    "tags": []
   },
   "outputs": [],
   "source": [
    "y_predict=model.predict(x_test)"
   ]
  },
  {
   "cell_type": "code",
   "execution_count": 124,
   "id": "1b246956-8152-4f9f-a647-806ce5448c4c",
   "metadata": {
    "tags": []
   },
   "outputs": [
    {
     "name": "stdout",
     "output_type": "stream",
     "text": [
      "[0 0 0 ... 1 0 1]\n"
     ]
    }
   ],
   "source": [
    "print(y_predict)"
   ]
  },
  {
   "cell_type": "code",
   "execution_count": 130,
   "id": "b7e28f75-e6a1-4d9f-a18d-1d3575a09c15",
   "metadata": {
    "tags": []
   },
   "outputs": [
    {
     "name": "stdout",
     "output_type": "stream",
     "text": [
      "98.93719806763285 %\n"
     ]
    }
   ],
   "source": [
    "from sklearn.metrics import accuracy_score\n",
    "print(accuracy_score(y_test,y_predict)*100,'%')\n",
    "\n"
   ]
  },
  {
   "cell_type": "code",
   "execution_count": 134,
   "id": "88fa3d12-828c-45d9-a9e2-7b4cc6d5c420",
   "metadata": {
    "tags": []
   },
   "outputs": [
    {
     "name": "stdout",
     "output_type": "stream",
     "text": [
      "[1]\n",
      "Ham mail\n"
     ]
    }
   ],
   "source": [
    "# make prediction\n",
    "input_mail=[\"Hi Yokesh K,World's biggest coding contest is backAre you geared up and excited to participatein this event?YesMay be laterAre you ready to compete against millions of developers and set new records? Join TechGig's flagship event, Code Gladiators, the biggest online tech community in India.\"]\n",
    "input_mail_feature=feature_extraction.transform(input_mail)\n",
    "predict=model.predict(input_mail_feature)\n",
    "print(predict)\n",
    "\n",
    "if(predict[0]==1):\n",
    "    print('Ham mail')\n",
    "else:\n",
    "    print(\"spam mail\")"
   ]
  },
  {
   "cell_type": "code",
   "execution_count": null,
   "id": "f77d2f50-759a-4342-a4f3-860ee2bde0a5",
   "metadata": {},
   "outputs": [],
   "source": []
  }
 ],
 "metadata": {
  "kernelspec": {
   "display_name": "Python 3 (ipykernel)",
   "language": "python",
   "name": "python3"
  },
  "language_info": {
   "codemirror_mode": {
    "name": "ipython",
    "version": 3
   },
   "file_extension": ".py",
   "mimetype": "text/x-python",
   "name": "python",
   "nbconvert_exporter": "python",
   "pygments_lexer": "ipython3",
   "version": "3.9.2"
  }
 },
 "nbformat": 4,
 "nbformat_minor": 5
}
